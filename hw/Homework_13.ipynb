{
 "cells": [
  {
   "cell_type": "markdown",
   "metadata": {
    "#question": false,
    "#solution": false,
    "#staff": false,
    "#student": false,
    "tags": []
   },
   "source": [
    "<table align=\"left\" style=\"border-style: hidden\" class=\"table\"> <tr><td class=\"col-md-2\"><img style=\"float\" src=\"../logo.png\" alt=\"Prob140 Logo\" style=\"width: 120px;\"/></td><td><div align=\"left\"><h3 style=\"margin-top: 0;\">Probability for Data Science</h3><h4 style=\"margin-top: 20px;\">UC Berkeley, Fall 2024</h4><p>Ani Adhikari</p>CC BY-NC-SA 4.0</div></td></tr></table><!-- not in pdf -->\n",
    "\n",
    "This content is protected and may not be shared, uploaded, or distributed."
   ]
  },
  {
   "cell_type": "markdown",
   "metadata": {
    "#question": false,
    "#solution": false,
    "#staff": false,
    "#student": false
   },
   "source": [
    "# Homework 13 (Due Monday, November 25th at 5 PM)"
   ]
  },
  {
   "cell_type": "markdown",
   "metadata": {
    "#question": false,
    "#solution": false,
    "#staff": false,
    "#student": true
   },
   "source": [
    "### How to Do Your Homework ###\n",
    "The point of homework is for you to try your hand at using what you've learned in class. The steps to follow:\n",
    "\n",
    "- Go to lecture and sections, and also go over the relevant text sections before starting on the homework. This will remind you what was covered in class, and the text will typically contain examples not covered in lecture. The weekly Study Guide will list what you should read.\n",
    "- Work on some of the practice problems before starting on the homework.\n",
    "- Attempt the homework problems by yourself with the text, section work, and practice materials all at hand. Sometimes the week's lab will help as well. The two steps above will help this step go faster and be more fruitful.\n",
    "- At this point, seek help if you need it. Don't ask how to do the problem — ask how to get started, or for a nudge to get you past where you are stuck. Always say what you have already tried. That helps us help you more effectively.\n",
    "- For a good measure of your understanding, keep track of the fraction of the homework you can do by yourself or with minimal help. It's a better measure than your homework score, and only you can measure it."
   ]
  },
  {
   "cell_type": "markdown",
   "metadata": {
    "#question": false,
    "#solution": false,
    "#staff": false,
    "#student": true
   },
   "source": [
    "### Rules for Homework ###\n",
    "- Every answer should contain a calculation or reasoning. For example, a calculation such as $(1/3)(0.8) + (2/3)(0.7)$ or `sum([(1/3)*0.8, (2/3)*0.7])`is fine without further explanation or simplification. If we want you to simplify, we'll ask you to. But just ${5 \\choose 2}$ by itself is not fine; write \"we want any 2 out of the 5 frogs and they can appear in any order\" or whatever reasoning you used. Reasoning can be brief and abbreviated, e.g. \"product rule\" or \"not mutually exclusive.\"\n",
    "- You may consult others (see \"How to Do Your Homework\" above) but you must write up your own answers using your own words, notation, and sequence of steps.\n",
    "- We'll be using Gradescope. You must submit the homework according to the instructions at the end of homework set.\n",
    "\n",
    "## **We will not grade assignments which do not have pages correctly selected for each question.** ##"
   ]
  },
  {
   "cell_type": "markdown",
   "metadata": {
    "#question": true,
    "#solution": false,
    "#staff": false,
    "#student": false
   },
   "source": [
    "## 1. Prediction with Sums\n",
    "Let $X_1, X_2, \\ldots, X_n$ be i.i.d. with expectation $\\mu$ and variance $\\sigma^2$. Let $S = \\sum_{i=1}^n X_i$.\n",
    "\n",
    "**a)** Find the least squares predictor of $S$ based on $X_1$, and find the mean squared error (MSE) of the predictor.\n",
    "\n",
    "**b)** Find the least squares predictor of $X_1$ based on $S$, and find the MSE of the predictor. Is the predictor a linear function of $S$? If so, it must also be the best among all linear predictors based on $S$, which is commonly known as the regression predictor. \n",
    "\n",
    "[Consider whether your predictor in (b) would be different if $X_1$ were replaced by $X_2$, or by $X_3$, or by $X_i$ for any fixed $i$. Then use symmetry and the additivity of conditional expectation.]"
   ]
  },
  {
   "cell_type": "markdown",
   "metadata": {
    "#question": false,
    "#solution": false,
    "#staff": false,
    "#student": false
   },
   "source": [
    "\\newpage"
   ]
  },
  {
   "cell_type": "markdown",
   "metadata": {
    "#question": true,
    "#solution": false,
    "#staff": false,
    "#student": false
   },
   "source": [
    "## 2. Accident Claims ##\n",
    "\n",
    "Poisson processes are standard models used by actuaries and industrial engineers.\n",
    "\n",
    "At a street intersection, accidents happen according to a Poisson process at a rate of $\\lambda$ per month. Each accident leads to an insurace claim of a random dollar amount. Assume that the amounts of the claims are i.i.d. with mean $\\mu$ and SD $\\sigma$, independent of the process of accidents.\n",
    "\n",
    "Find the expectation and variance of the total amount claimed for accidents at that intersection in a year."
   ]
  },
  {
   "cell_type": "markdown",
   "metadata": {
    "#question": false,
    "#solution": false,
    "#staff": false,
    "#student": false
   },
   "source": [
    "\\newpage"
   ]
  },
  {
   "cell_type": "markdown",
   "metadata": {
    "#question": true,
    "#solution": false,
    "#staff": false,
    "#student": false
   },
   "source": [
    "## 3. Two-Colored Die ##\n",
    "\n",
    "A die that has two green faces and four blue faces is rolled repeatedly. Let $R$ be the number of rolls till both colors have appeared. \n",
    "\n",
    "In each part below, find the numerical value.\n",
    "\n",
    "**a)** Find $E(R)$.\n",
    "\n",
    "**b)** Find $SD(R)$."
   ]
  },
  {
   "cell_type": "markdown",
   "metadata": {
    "#question": false,
    "#solution": false,
    "#staff": false,
    "#student": false
   },
   "source": [
    "\\newpage"
   ]
  },
  {
   "cell_type": "markdown",
   "metadata": {
    "#question": true,
    "#solution": false,
    "#staff": false,
    "#student": false
   },
   "source": [
    "## 4. Midterms 1 and 2 ##\n",
    "\n",
    "In a large class, the distribution of scores in Midterms 1 and 2 is approximately bivariate normal. Define the following notation.\n",
    "\n",
    "- For $i = 1, 2$, $\\mu_i$ is the class average on Midterm $i$, and $\\sigma_i^2$ is the class variance on Midterm $i$\n",
    "- The correlation between Midterm 1 and 2 scores in the class is $\\rho$\n",
    "\n",
    "**a)** For approximately what proportion of the students was the Midterm 2 score (in standard units) higher than the Midterm 1 score (in standard units)?\n",
    "\n",
    "**b)** For approximately what proportion of the students did the two midterm scores (each in standard units) differ by more than 1?"
   ]
  },
  {
   "cell_type": "markdown",
   "metadata": {
    "#question": false,
    "#solution": false,
    "#staff": false,
    "#student": false
   },
   "source": [
    "\\newpage"
   ]
  },
  {
   "cell_type": "markdown",
   "metadata": {
    "#question": true,
    "#solution": false,
    "#staff": false,
    "#student": false
   },
   "source": [
    "## 5. Normals and Coins ##\n",
    "\n",
    "Let $X$ be standard normal. Construct a random variable $Y$ as follows:\n",
    "\n",
    "- Toss a fair coin.\n",
    "- If the coin lands heads, let $Y = X$.\n",
    "- If the coin lands tails, let $Y = -X$.\n",
    "\n",
    "**a)** Find the cdf of $Y$ and hence identify the distribution of $Y$.\n",
    "\n",
    "**b)** Find $E(XY)$ by conditioning on the result of the toss.\n",
    "\n",
    "**c)** Are $X$ and $Y$ uncorrelated? \n",
    "\n",
    "**d)** Are $X$ and $Y$ independent?\n",
    "\n",
    "**e)** Is the joint distribution of $X$ and $Y$ bivariate normal?"
   ]
  },
  {
   "cell_type": "markdown",
   "metadata": {
    "#question": false,
    "#solution": false,
    "#staff": false,
    "#student": false
   },
   "source": [
    "\\newpage"
   ]
  },
  {
   "cell_type": "markdown",
   "metadata": {
    "#question": false,
    "#solution": false,
    "#staff": false,
    "#student": true,
    "tags": []
   },
   "source": [
    "## Submission Instructions ##\n",
    "\n",
    "Many assignments throughout the course will have a written portion and a code portion. Please follow the directions below to properly submit both portions.\n",
    "\n",
    "### Written Portion ###\n",
    "*  Scan all the pages into a PDF. You can use any scanner or a phone using applications such as CamScanner. Please **DO NOT** simply take pictures using your phone. \n",
    "* Please start a new page for each question. If you have already written multiple questions on the same page, you can crop the image in CamScanner or fold your page over (the old-fashioned way). This helps expedite grading.\n",
    "* It is your responsibility to check that all the work on all the scanned pages is legible.\n",
    "* If you used $\\LaTeX$ to do the written portions, you do not need to do any scanning; you can just download the whole notebook as a PDF via LaTeX.\n",
    "\n",
    "### Code Portion ###\n",
    "* Save your notebook using `File > Save and Checkpoint`.\n",
    "* Generate a PDF file using `File > Download As > PDF via LaTeX`. This might take a few seconds and will automatically download a PDF version of this notebook.\n",
    "    * If you have issues, please post a follow-up on the general Homework 13 Ed thread.\n",
    "    \n",
    "### Submitting ###\n",
    "* Combine the PDFs from the written and code portions into one PDF. [Here](https://smallpdf.com/merge-pdf) is a useful tool for doing so. \n",
    "* Submit the assignment to Homework 13 on Gradescope. \n",
    "* **Make sure to assign each page of your pdf to the correct question.**\n",
    "* **It is your responsibility to verify that all of your work shows up in your final PDF submission.**\n",
    "\n",
    "If you are having difficulties scanning, uploading, or submitting your work, please read the [Ed Thread](https://edstem.org/us/courses/62266/discussion/5191791) on this topic and post a follow-up on the general Homework 13 Ed thread."
   ]
  }
 ],
 "metadata": {
  "anaconda-cloud": {},
  "checksums": [
   "8eb95ee5f26c8c4aa214ba63154be9e0",
   "814031f885ef75a5c954fc603b79cc57",
   "e8b146b4314b9ff8608529b2cf2e2d0e",
   "eb8de0cd5020566e8a96e2d72d6bbb19",
   "645b88ae11ebbf2a50265908df88c460",
   "562505d567faf02dfc9388e81e89d07b",
   "768024951564d9cb13b59239ab7d6bb0",
   "562505d567faf02dfc9388e81e89d07b",
   "7ab0cf8e22fa991b681bb42617e0067a",
   "562505d567faf02dfc9388e81e89d07b",
   "c3cdce62a64e8755f51ae854e25c9542",
   "562505d567faf02dfc9388e81e89d07b",
   "181408bc6a3269f5790982645d95c961",
   "562505d567faf02dfc9388e81e89d07b",
   "05741ec536f53f25277777c4ee4acbc9"
  ],
  "kernelspec": {
   "display_name": "Python 3",
   "language": "python",
   "name": "python3"
  },
  "language_info": {
   "codemirror_mode": {
    "name": "ipython",
    "version": 3
   },
   "file_extension": ".py",
   "mimetype": "text/x-python",
   "name": "python",
   "nbconvert_exporter": "python",
   "pygments_lexer": "ipython3",
   "version": "3.8.8"
  },
  "number_of_pagebreaks": 0
 },
 "nbformat": 4,
 "nbformat_minor": 4
}
